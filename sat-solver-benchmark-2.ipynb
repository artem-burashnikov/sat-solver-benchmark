{
 "cells": [
  {
   "cell_type": "markdown",
   "id": "b1524f97-0ea5-45be-a93c-81f57766ec1b",
   "metadata": {},
   "source": [
    "# Замер производительности SomeSAT\n",
    "\n",
    "В данной среде представлен замер производительности реализации алгоритма DPLL. \n",
    "\n",
    "[Репозиторий с реализацией алгоритма на языке F#](https://github.com/artem-burashnikov/SomeSAT).\n",
    "\n",
    "Последующие разделы включают характеристики используемого оборудования и способ подготовки тестового стенда, описание набора тестовых данных, используемые метрики, исследовательские гипотезы и анализ полученных результатов.\n",
    "\n",
    "---\n",
    "\n",
    "## Характеристики используемого оборудования\n",
    "\n",
    "Ниже приведены основные характеристики и команды `bash` для их вывода.\n",
    "\n",
    "### Использованные команды\n",
    "\n",
    "`cat /etc/os-release` &mdash; информация об операционной системе.\n",
    "\n",
    "`lscpu` &mdash; информация об используемом процессоре.\n",
    "\n",
    "`free -h` &mdash; информация об используемой памяти.\n",
    "\n",
    "### Характеристики тествого стенда\n",
    "\n",
    "1. **OS**: Ubuntu 22.04.4 LTS\n",
    "\n",
    "2. **CPU vendor and model**: AMD Ryzen 5 4500U\n",
    "\n",
    "3. **Architecture**: x86-64\n",
    "\n",
    "4. **CPU frequency (MAX)**: 2.38 GHz\n",
    "\n",
    "5. **RAM (Total)**: 7.1Gi\n",
    "\n",
    "Измерения проводились на одном ядре на одном потоке.\n",
    "\n",
    "---\n",
    "\n",
    "## Подготовка тестового стенда\n",
    "\n",
    "Часть команд выполнена с помощью утилиты `cpupower`, которая может быть установлена с помощью:\n",
    "\n",
    "```sh\n",
    "sudo apt install linux-tools-common\n",
    "```\n",
    "\n",
    "Все изменения временные и вернутся в состояние по умолчанию при перезагрузке системы:\n",
    "\n",
    "1. Отключение `swap`:\n",
    "\n",
    "```sh\n",
    "sudo swapoff -a\n",
    "```\n",
    "\n",
    "2. Установка подсистемы `CPUFreq governor` в состояние `performance`:\n",
    "\n",
    "```sh\n",
    "sudo cpupower frequency-set -g performance\n",
    "```\n",
    "\n",
    "3. Установка максимального значения для минимальной и максимальной частоты процессора для всех ядер:\n",
    "\n",
    "```sh\n",
    "sudo cpupower frequency-set -d 2.38GHz -u 2.38GHz\n",
    "```\n",
    "\n",
    "3. Сборка программы в Release (запустить в корне проекта):\n",
    "\n",
    "```sh\n",
    "dotnet build -c Release\n",
    "```\n",
    "\n",
    "3. Запуск исполняемой программы на одном ядре (в данном случае с порядковым номером 0, запустить в корне собранного проекта):\n",
    "\n",
    "```sh\n",
    "taskset -c 0 ./SomeSAT/bin/Release/net8.0/SomeSAT test_data/jnh301.cnf\n",
    "```\n",
    "\n",
    "---\n",
    "\n",
    "## Использованная метрика\n",
    "\n",
    "Измерено чистое время работы алгоритма в миллисекундах (то есть время работы программы за исключением времени, затраченного на операцию чтения данных из файла и операцию перевода прочитанных данных во внутреннее представление и обратно).\n",
    "\n",
    "---\n",
    "\n",
    "## Тестовые данные\n",
    "\n",
    "Для измерения времени выполенения выбраны данные, время работы алгоритма на которых составляет порядка 4-5 секунд.\n",
    "\n",
    "Тестовые данные `jnh301.cnf` размещены в директории `test_data/`, расположенной в корне текущего репозитория.\n",
    "\n",
    "CNF содержит 100 переменных и 900 дизъюнктов. Булева формула, представленная в файле, является разрешимой.\n",
    "\n",
    "---\n",
    "\n",
    "## Инструмент для измерения\n",
    "\n",
    "Для измерения времени использованы методы класса `Stopwatch`, предоставляемого `.NET`.\n",
    "\n",
    "---\n",
    "\n",
    "## Исследовательская гипотеза\n",
    "\n",
    "Ожидается, что полученный набор измерений соответствует нормальному распределению.\n",
    "\n",
    "---\n",
    "\n",
    "## Проведение измерений\n",
    "\n",
    "Измерений выполнены дважды, затем полученные данные проанилизированы на нормальность, проведены расчеты основных статистических величин.\n",
    "\n",
    "При проведения замеров производительности соблюдены следующие условия:\n",
    "\n",
    "1. Перед исполнением алгоритма вызывается `Thread.Sleep(60000)` для искусственного простоя программы в режиме ожидания.\n",
    "\n",
    "2. Выполняется предварительный прогрев `.NET` путем неизмеряемого исполнения программы на `warmup_data.cnf` в количестве 10 итераций, после чего алгоритм выполняется на тестовых данных с замером времени исполнения без учета времени на чтение данных из файла и перевод во внутреннее представление."
   ]
  },
  {
   "cell_type": "code",
   "execution_count": 1,
   "id": "10576f8e-9060-4161-8927-a2bb300cda74",
   "metadata": {},
   "outputs": [],
   "source": [
    "from scipy import stats\n",
    "import numpy as np\n",
    "import matplotlib.pyplot as plt\n",
    "from math import sqrt"
   ]
  },
  {
   "cell_type": "code",
   "execution_count": 2,
   "id": "7ac67678-90d6-4bca-8d99-c31a512eaa07",
   "metadata": {},
   "outputs": [
    {
     "data": {
      "text/plain": [
       "(array([3., 1., 5., 8., 5., 4., 6., 3., 2., 3.]),\n",
       " array([5.5997072 , 5.63072022, 5.66173324, 5.69274626, 5.72375928,\n",
       "        5.7547723 , 5.78578532, 5.81679834, 5.84781136, 5.87882438,\n",
       "        5.9098374 ]),\n",
       " <BarContainer object of 10 artists>)"
      ]
     },
     "execution_count": 2,
     "metadata": {},
     "output_type": "execute_result"
    },
    {
     "data": {
      "image/png": "[encoded data removed]",
      "text/plain": [
       "<Figure size 640x480 with 1 Axes>"
      ]
     },
     "metadata": {},
     "output_type": "display_data"
    }
   ],
   "source": [
    "m = open(\"measurements2.txt\", \"r\")\n",
    "t = [float(x.strip())/1000.0 for x in m.readlines()]\n",
    "plt.hist(t)"
   ]
  },
  {
   "cell_type": "code",
   "execution_count": 3,
   "id": "26229e34-e332-40f7-b98e-8c819053635f",
   "metadata": {},
   "outputs": [
    {
     "data": {
      "text/plain": [
       "NormaltestResult(statistic=0.4762989217200999, pvalue=0.7880848944448795)"
      ]
     },
     "execution_count": 3,
     "metadata": {},
     "output_type": "execute_result"
    }
   ],
   "source": [
    "stats.normaltest(t)"
   ]
  },
  {
   "cell_type": "code",
   "execution_count": 4,
   "id": "c2bb410e-a681-411b-8fd7-db7c65105ced",
   "metadata": {},
   "outputs": [
    {
     "data": {
      "text/plain": [
       "ShapiroResult(statistic=0.9758090516870385, pvalue=0.5375342998807435)"
      ]
     },
     "execution_count": 4,
     "metadata": {},
     "output_type": "execute_result"
    }
   ],
   "source": [
    "stats.shapiro(t)"
   ]
  },
  {
   "cell_type": "code",
   "execution_count": 5,
   "id": "066d3082-e72d-4e32-9f7c-8bb0c4e53173",
   "metadata": {},
   "outputs": [],
   "source": [
    "m.close()"
   ]
  },
  {
   "cell_type": "markdown",
   "id": "1d33fb74-b297-4415-8b13-c4f66aa504e8",
   "metadata": {},
   "source": [
    "---\n",
    "\n",
    "## Анализ полученных результатов\n",
    "\n",
    "Полученная гистограмма и p-values соответствуют нормальному распределению, что согласуется с выдвинутой гипотезой."
   ]
  },
  {
   "cell_type": "markdown",
   "id": "99a179b3-663f-45ec-b2b6-491f0234bf48",
   "metadata": {},
   "source": [
    "### Вычисление основных статистических величин"
   ]
  },
  {
   "cell_type": "markdown",
   "id": "d1b99897-e5f3-42b5-8f5b-df52cdce9506",
   "metadata": {},
   "source": [
    "**Среднее**:"
   ]
  },
  {
   "cell_type": "code",
   "execution_count": 6,
   "id": "936280d3-3513-4f3f-a47a-57eb43a1477e",
   "metadata": {},
   "outputs": [
    {
     "data": {
      "text/plain": [
       "5.7485281950000005"
      ]
     },
     "execution_count": 6,
     "metadata": {},
     "output_type": "execute_result"
    }
   ],
   "source": [
    "np.mean(t)"
   ]
  },
  {
   "cell_type": "markdown",
   "id": "e2e3ec01-f86d-4061-83ce-9ab97ff73ca2",
   "metadata": {},
   "source": [
    "**Стандартное отклонение**:"
   ]
  },
  {
   "cell_type": "code",
   "execution_count": 7,
   "id": "2c953e86-396e-4bf0-a9d0-f740106a563a",
   "metadata": {},
   "outputs": [
    {
     "data": {
      "text/plain": [
       "0.07951631582299018"
      ]
     },
     "execution_count": 7,
     "metadata": {},
     "output_type": "execute_result"
    }
   ],
   "source": [
    "np.std(t, ddof=1)"
   ]
  },
  {
   "cell_type": "markdown",
   "id": "1fc49fc8-3a34-43e3-9116-9b47dfb28179",
   "metadata": {},
   "source": [
    "**Стандартное отклонение среднего**:"
   ]
  },
  {
   "cell_type": "code",
   "execution_count": 8,
   "id": "d301597a-23e7-4c26-80c5-20aace7842e5",
   "metadata": {},
   "outputs": [
    {
     "data": {
      "text/plain": [
       "0.012572633457296763"
      ]
     },
     "execution_count": 8,
     "metadata": {},
     "output_type": "execute_result"
    }
   ],
   "source": [
    "np.std(t, ddof=1)/sqrt(len(t))"
   ]
  },
  {
   "cell_type": "markdown",
   "id": "37f48a33-242a-4bfc-8dae-4a6c3e5935ac",
   "metadata": {},
   "source": [
    "**Доверительный интервал**:"
   ]
  },
  {
   "cell_type": "code",
   "execution_count": 9,
   "id": "26015aea-ae3c-4f2f-a9d1-77d37372f56c",
   "metadata": {},
   "outputs": [
    {
     "data": {
      "text/plain": [
       "0.025430551535024545"
      ]
     },
     "execution_count": 9,
     "metadata": {},
     "output_type": "execute_result"
    }
   ],
   "source": [
    "stats.t.ppf(0.975, df=len(t)-1)*stats.sem(t)"
   ]
  },
  {
   "cell_type": "markdown",
   "id": "cbe62d19-eb96-45f9-8e78-c66c75c9dcce",
   "metadata": {},
   "source": [
    "Таким образом, итоговый интервал:\n",
    "\n",
    "$5.75 \\pm 0.03$"
   ]
  },
  {
   "cell_type": "markdown",
   "id": "9bee3cb7-661f-4218-baa0-1bf4e25bda2c",
   "metadata": {},
   "source": [
    "## Использованные ресурсы\n",
    "\n",
    "1: https://temci.readthedocs.io/en/latest/temci_exec.html\n",
    "\n",
    "2: https://gernot-heiser.org/benchmarking-crimes.html\n",
    "\n",
    "3: https://ib.komisc.ru/rus/seminary/doklady-na-seminarakh?download=48:kostrova-s-n-ratsionalnoe-vypolnenie-vychislenij"
   ]
  }
 ],
 "metadata": {
  "kernelspec": {
   "display_name": "Python 3 (ipykernel)",
   "language": "python",
   "name": "python3"
  },
  "language_info": {
   "codemirror_mode": {
    "name": "ipython",
    "version": 3
   },
   "file_extension": ".py",
   "mimetype": "text/x-python",
   "name": "python",
   "nbconvert_exporter": "python",
   "pygments_lexer": "ipython3",
   "version": "3.10.12"
  }
 },
 "nbformat": 4,
 "nbformat_minor": 5
}
