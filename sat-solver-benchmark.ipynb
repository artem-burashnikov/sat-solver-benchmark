{
 "cells": [
  {
   "cell_type": "markdown",
   "id": "b1524f97-0ea5-45be-a93c-81f57766ec1b",
   "metadata": {},
   "source": [
    "# Замер производительности SomeSAT\n",
    "\n",
    "В данной среде представлен замер производительности реализации алгоритма DPLL. \n",
    "\n",
    "[Репозиторий с реализацией алгоритма на языке F#](https://github.com/artem-burashnikov/SomeSAT).\n",
    "\n",
    "Последующие разделы включают характеристики используемого оборудования и способ подготовки тестового стенда, описание набора тестовых данных, используемые метрики, исследовательские гипотезы и анализ полученных результатов.\n",
    "\n",
    "---\n",
    "\n",
    "## Характеристики используемого оборудования\n",
    "\n",
    "Ниже приведены основные характеристики и команды `bash` для их вывода.\n",
    "\n",
    "### Использованные команды\n",
    "\n",
    "`cat /etc/os-release` &mdash; информация об операционной системе.\n",
    "\n",
    "`lscpu` &mdash; информация об используемом процессоре.\n",
    "\n",
    "`free -h` &mdash; информация об используемой памяти.\n",
    "\n",
    "### Характеристики тествого стенда\n",
    "\n",
    "1. **OS**: Ubuntu 22.04.4 LTS\n",
    "\n",
    "2. **CPU vendor and model**: AMD Ryzen 5 4500U\n",
    "\n",
    "3. **Architecture**: x86-64\n",
    "\n",
    "4. **CPU frequency (MAX)**: 2.38 GHz\n",
    "\n",
    "5. **RAM (Total)**: 7.1Gi\n",
    "\n",
    "Измерения проводились на одном ядре на одном потоке.\n",
    "\n",
    "---\n",
    "\n",
    "## Подготовка тестового стенда\n",
    "\n",
    "Часть команд выполнена с помощью утилиты `cpupower`, которая может быть установлена с помощью:\n",
    "\n",
    "```sh\n",
    "sudo apt install linux-tools-common\n",
    "```\n",
    "\n",
    "Все изменения временные и вернутся в состояние по умолчанию при перезагрузке системы:\n",
    "\n",
    "1. Отключение `swap`:\n",
    "\n",
    "```sh\n",
    "sudo swapoff -a\n",
    "```\n",
    "\n",
    "2. Установка подсистемы `CPUFreq governor` в состояние `performance`:\n",
    "\n",
    "```sh\n",
    "sudo cpupower frequency-set -g performance\n",
    "```\n",
    "\n",
    "3. Установка максимального значения для минимальной и максимальной частоты процессора для всех ядер:\n",
    "\n",
    "```sh\n",
    "sudo cpupower frequency-set -d 2.38GHz -u 2.38GHz\n",
    "```\n",
    "\n",
    "3. Сборка программы в Release (запустить в корне проекта):\n",
    "\n",
    "```sh\n",
    "dotnet build -c Release\n",
    "```\n",
    "\n",
    "3. Запуск исполняемой программы на одном ядре (в данном случае с порядковым номером 0, запустить в корне собранного проекта):\n",
    "\n",
    "```sh\n",
    "taskset -c 0 ./SomeSAT/bin/Release/net8.0/SomeSAT test_data/jnh301.cnf\n",
    "```\n",
    "\n",
    "---\n",
    "\n",
    "## Использованная метрика\n",
    "\n",
    "Измерено чистое время работы алгоритма (то есть время работы программы за исключением времени, затраченного на операцию чтения данных из файла и операцию перевода прочитанных данных во внутреннее представление и обратно).\n",
    "\n",
    "---\n",
    "\n",
    "## Тестовые данные\n",
    "\n",
    "Для измерения времени выполенения выбраны данные, время работы алгоритма на которых составляет порядка 4-5 секунд.\n",
    "\n",
    "Тестовые данные `jnh301.cnf` размещены в директории `test_data/`, расположенной в корне текущего репозитория.\n",
    "\n",
    "CNF содержит 100 переменных и 900 дизъюнктов. Булева формула, представленная в файле, является разрешимой.\n",
    "\n",
    "---\n",
    "\n",
    "## Инструмент для измерения\n",
    "\n",
    "Для измерения времени использованы методы класса `Stopwatch`, предоставляемого `.NET`.\n",
    "\n",
    "---\n",
    "\n",
    "## Исследовательская гипотеза\n",
    "\n",
    "Ожидается, что полученный набор измерений соответствует нормальному распределению.\n",
    "\n",
    "---\n",
    "\n",
    "## Проведение измерений\n",
    "\n",
    "Для проведения измерений соблюдены следующие условия:\n",
    "\n",
    "1. Перед исполнением алгоритма вызывается `Thread.Sleep(60000)` для искусственного простоя программы в режиме ожидания.\n",
    "\n",
    "2. Выполняется предварительный прогрев `.NET` путем неизмеряемого исполнения программы на `warmup_data.cnf` в количестве 10 итераций, после чего алгоритм выполняется на тестовых данных с замером времени исполнения без учета времени на чтение данных из файла и перевод во внутреннее представление."
   ]
  },
  {
   "cell_type": "code",
   "execution_count": 1,
   "id": "10576f8e-9060-4161-8927-a2bb300cda74",
   "metadata": {},
   "outputs": [],
   "source": [
    "from scipy import stats\n",
    "import numpy as np\n",
    "import matplotlib.pyplot as plt"
   ]
  },
  {
   "cell_type": "code",
   "execution_count": 2,
   "id": "76bceda8-b155-4e57-a29a-4fd24a1b9f2e",
   "metadata": {},
   "outputs": [
    {
     "data": {
      "text/plain": [
       "(array([1., 3., 2., 2., 8., 7., 5., 5., 6., 1.]),\n",
       " array([5.5132733 , 5.53749476, 5.56171622, 5.58593768, 5.61015914,\n",
       "        5.6343806 , 5.65860206, 5.68282352, 5.70704498, 5.73126644,\n",
       "        5.7554879 ]),\n",
       " <BarContainer object of 10 artists>)"
      ]
     },
     "execution_count": 2,
     "metadata": {},
     "output_type": "execute_result"
    },
    {
     "data": {
      "image/png": "[encoded data removed]",
      "text/plain": [
       "<Figure size 640x480 with 1 Axes>"
      ]
     },
     "metadata": {},
     "output_type": "display_data"
    }
   ],
   "source": [
    "m1 = open(\"measurements1.txt\", \"r\")\n",
    "t1 = [float(x.strip())/1000.0 for x in m1.readlines()]\n",
    "plt.hist(t1)"
   ]
  },
  {
   "cell_type": "code",
   "execution_count": 3,
   "id": "40305a76-82d3-4f33-b960-2ebdc3eea34a",
   "metadata": {},
   "outputs": [
    {
     "data": {
      "text/plain": [
       "NormaltestResult(statistic=1.1357774737735484, pvalue=0.5667206729809062)"
      ]
     },
     "execution_count": 3,
     "metadata": {},
     "output_type": "execute_result"
    }
   ],
   "source": [
    "stats.normaltest(t1)"
   ]
  },
  {
   "cell_type": "code",
   "execution_count": 4,
   "id": "d50e9d97-481a-4dba-8fee-0c4dcc8b81ee",
   "metadata": {},
   "outputs": [
    {
     "data": {
      "text/plain": [
       "ShapiroResult(statistic=0.9782540509439912, pvalue=0.6249295483577468)"
      ]
     },
     "execution_count": 4,
     "metadata": {},
     "output_type": "execute_result"
    }
   ],
   "source": [
    "stats.shapiro(t1)"
   ]
  },
  {
   "cell_type": "code",
   "execution_count": 5,
   "id": "2beb7805-42bd-4545-95c6-f4594afede67",
   "metadata": {},
   "outputs": [],
   "source": [
    "m1.close()"
   ]
  },
  {
   "cell_type": "markdown",
   "id": "5757a2ba-c52f-4f7a-b348-ef577f598f23",
   "metadata": {},
   "source": [
    "## Использованные ресурсы\n",
    "\n",
    "1: https://temci.readthedocs.io/en/latest/temci_exec.html\n",
    "\n",
    "2: https://gernot-heiser.org/benchmarking-crimes.html"
   ]
  }
 ],
 "metadata": {
  "kernelspec": {
   "display_name": "Python 3 (ipykernel)",
   "language": "python",
   "name": "python3"
  },
  "language_info": {
   "codemirror_mode": {
    "name": "ipython",
    "version": 3
   },
   "file_extension": ".py",
   "mimetype": "text/x-python",
   "name": "python",
   "nbconvert_exporter": "python",
   "pygments_lexer": "ipython3",
   "version": "3.10.12"
  }
 },
 "nbformat": 4,
 "nbformat_minor": 5
}
