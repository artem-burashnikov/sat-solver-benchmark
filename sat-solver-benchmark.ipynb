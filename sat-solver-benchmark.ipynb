{
 "cells": [
  {
   "cell_type": "markdown",
   "id": "b1524f97-0ea5-45be-a93c-81f57766ec1b",
   "metadata": {},
   "source": [
    "# Замер производительности SomeSAT\n",
    "\n",
    "В данной среде представлен замер производительности реализации алгоритма DPLL, представленной в [репозитории](https://github.com/artem-burashnikov/SomeSAT).\n",
    "\n",
    "Далее приведены характеристики используемого оборудования и способ подготовки тестового стенда, описание набора тестовых данных, используемые метрики и анализ полученных результатов.\n",
    "\n",
    "## Характеристики используемого оборудования\n",
    "\n",
    "Ниже приведены основные характеристики и команды `bash` для их вывода.\n",
    "\n",
    "1. **Operating system**: Ubuntu 22.04.4 LTS\n",
    "\n",
    "```bash\n",
    "grep -E '^PRETTY_NAME=' /etc/os-release\n",
    "```\n",
    "\n",
    "2. **Kernel version**: 6.5.0-28-generic\n",
    "\n",
    "````sh\n",
    "uname -r\n",
    "````\n",
    "\n",
    "3. **RAM**: 7.1Gi\n",
    "\n",
    "```sh\n",
    "free -h\n",
    "```"
   ]
  }
 ],
 "metadata": {
  "kernelspec": {
   "display_name": "Python 3 (ipykernel)",
   "language": "python",
   "name": "python3"
  },
  "language_info": {
   "codemirror_mode": {
    "name": "ipython",
    "version": 3
   },
   "file_extension": ".py",
   "mimetype": "text/x-python",
   "name": "python",
   "nbconvert_exporter": "python",
   "pygments_lexer": "ipython3",
   "version": "3.10.12"
  }
 },
 "nbformat": 4,
 "nbformat_minor": 5
}
